{
 "cells": [
  {
   "cell_type": "code",
   "execution_count": null,
   "metadata": {
    "collapsed": true
   },
   "outputs": [],
   "source": [
    "#kinnesis pool data and write to local file\n",
    "\n",
    "from boto import kinesis\n",
    "import time\n",
    "import json\n",
    "import pickle\n",
    "\n",
    "# AWS Connection Credentials\n",
    "aws_access_key = '*****'\n",
    "aws_access_secret = '*****'\n",
    "\n",
    "# Selected Kinesis Stream from where to pull data\n",
    "stream = 'test-dev'\n",
    "\n",
    "# Aws Authentication\n",
    "auth = {\"aws_access_key_id\": aws_access_key, \"aws_secret_access_key\": aws_access_secret}\n",
    "conn = kinesis.connect_to_region('eu-west-1',**auth)\n",
    "\n",
    "# Targeted file to be pushed to S3 bucket\n",
    "fileName = \"KinesisDataTest1.txt\"\n",
    "f = open(\"C:\\\\Users\\\\test\\\\Desktop\\\\data\\\\Kinesis_S3Data.json\", \"w+\")\n",
    "\n",
    "# Describe stream and get shards\n",
    "tries = 0\n",
    "while tries < 10:\n",
    "    tries += 1\n",
    "    time.sleep(1)\n",
    "    response = conn.describe_stream(stream)\n",
    "    if response['StreamDescription']['StreamStatus'] == 'ACTIVE':\n",
    "        break\n",
    "else:\n",
    "    raise TimeoutError('Stream is still not active, aborting...')\n",
    "\n",
    "# Get Shard Iterator and get records from stream\n",
    "shard_ids = []\n",
    "stream_name = None\n",
    "if response and 'StreamDescription' in response:\n",
    "    stream_name = response['StreamDescription']['StreamName']\n",
    "    for shard_id in response['StreamDescription']['Shards']:\n",
    "        shard_id = shard_id['ShardId']\n",
    "        shard_iterator = conn.get_shard_iterator(stream,\n",
    "        shard_id, \"LATEST\")[\"ShardIterator\"]\n",
    "        tries = 0\n",
    "        result = []\n",
    "        while tries < 100:\n",
    "            tries += 1\n",
    "            response = conn.get_records(shard_iterator, limit=2)\n",
    "            shard_iterator = response['NextShardIterator']\n",
    "            if len(response['Records'])> 0:\n",
    "                for res in response['Records']:\n",
    "                    result.append(res['Data'])\n",
    "                    f.write(str(result) + \"\\n\")"
   ]
  }
 ],
 "metadata": {
  "kernelspec": {
   "display_name": "Python 2",
   "language": "python",
   "name": "python2"
  },
  "language_info": {
   "codemirror_mode": {
    "name": "ipython",
    "version": 2
   },
   "file_extension": ".py",
   "mimetype": "text/x-python",
   "name": "python",
   "nbconvert_exporter": "python",
   "pygments_lexer": "ipython2",
   "version": "2.7.11"
  }
 },
 "nbformat": 4,
 "nbformat_minor": 0
}
